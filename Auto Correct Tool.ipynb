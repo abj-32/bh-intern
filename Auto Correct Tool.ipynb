{
 "cells": [
  {
   "cell_type": "code",
   "execution_count": 10,
   "id": "dfd006ca",
   "metadata": {
    "scrolled": true
   },
   "outputs": [],
   "source": [
    "import re                                                        #importing necessary functions\n",
    "import string                                                                               \n",
    "from collections import Counter\n",
    "import numpy as np\n",
    "\n",
    "class SplChecker(object):\n",
    "                                                                          # here we are doing calulations on  \n",
    "  def __init__(self, corpus_file_path):                                   # the passed data set such as calulating \n",
    "    with open(corpus_file_path, \"r\") as file:                             # total no of lines,total no of words\n",
    "      lines = file.readlines()\n",
    "      words = []\n",
    "      for line in lines:\n",
    "        words += re.findall(r'\\w+', line.lower())\n",
    "\n",
    "    self.vocabs = set(words)                                              # no of unique word count by storing it in set \n",
    "    self.word_counts = Counter(words)                                     # so that no repetition occurs \n",
    "    total_words = float(sum(self.word_counts.values()))\n",
    "    self.word_probas = {word: self.word_counts[word] / total_words for word in self.vocabs}\n",
    "    \n",
    "                                                                            # in above statement we have \n",
    "                                                                            # calculated probabaility of a particular \n",
    "  def _level_one_edits(self, word):                                         # word that we are obtaining\n",
    "    letters = string.ascii_lowercase\n",
    "    splits = [(word[:i], word[i:]) for i in range(len(word) + 1)]            \n",
    "    deletes = [l + r[1:] for l,r in splits if r]                             # doing edits on the word passed as argument \n",
    "    swaps = [l + r[1] + r[0] + r[2:] for l, r in splits if len(r)>1]         # these are only for the first level i.e only \n",
    "    replaces = [l + c + r[1:] for l, r in splits if r for c in letters]      # one character is edited as swapped, passed,\n",
    "    inserts = [l + c + r for l, r in splits for c in letters]                # deleted or replaced \n",
    "                                                                             #\n",
    "    return set(deletes + swaps + replaces + inserts)                         # returning the word obtained \n",
    "\n",
    "  def _level_two_edits(self, word):                                          #doing second edits on first ones \n",
    "    return set(e2 for e1 in self._level_one_edits(word) for e2 in self._level_one_edits(e1))\n",
    "\n",
    "  def check(self, word):\n",
    "    candidates = self._level_one_edits(word) or self._level_two_edits(word) or [word]\n",
    "    valid_candidates = [w for w in candidates if w in self.vocabs]\n",
    "    ans=sorted([(c, self.word_probas[c]) for c in valid_candidates], key=lambda tup: tup[1], reverse=True)\n",
    "    for j in ans:                                                           #above function sorts the words obtained from \n",
    "        return(j[0])                                                        #the training data set in descending order thus \n",
    "                                                                            #returning highest probable word \n",
    "checker = SplChecker(\"./big.txt\")                                           #passing the training data set \n",
    "\n",
    "    #----------------------------------------------------------------------------------------------------------------#\n",
    "    # now we are implementing the front end, so as to give a GUI to the application by using tkinter library  \n",
    "\n",
    "from tkinter import *\n",
    "\n",
    "def clearAll():\n",
    " \n",
    "    word1_field.delete(0, END)\n",
    "    word2_field.delete(0, END)\n",
    " \n",
    "def correction():\n",
    " \n",
    "    str = word1_field.get()\n",
    "    word2_field.insert(10, checker.check(str))\n",
    " \n",
    "if __name__ == \"__main__\":                                           # using tkinter library to implement front end window\n",
    "                                                                     # of the function \n",
    "    root = Tk()                                                      \n",
    "    root.configure(background='light blue')\n",
    "    root.geometry(\"800x300\")\n",
    "    root.title(\"Spell Corrector\")\n",
    "    headlabel = Label(root, text='Welcome to Auto Correction Tool',fg='black', bg=\"light yellow\")\n",
    " \n",
    "    lbl1 = Label(root, text=\"Input Word\",fg='black', bg='green')\n",
    "    lbl2 = Label(root, text=\"Corrected Word\",fg='black', bg='dark green')\n",
    "    \n",
    "    headlabel.grid(row=0, column=1)\n",
    "    lbl1.grid(row=1, column=0)\n",
    "    lbl2.grid(row=3, column=0, padx=10)\n",
    " \n",
    "    word1_field = Entry()\n",
    "    word2_field = Entry()\n",
    "    word1_field.grid(row=1, column=1, padx=10, pady=10)\n",
    "    word2_field.grid(row=3, column=1, padx=10, pady=10)\n",
    " \n",
    "    button1 = Button(root, text=\"Correction\", bg=\"red\", fg=\"black\",command=correction)\n",
    "    button1.grid(row=2, column=1)\n",
    "    button2 = Button(root, text=\"Clear\", bg=\"red\",fg=\"black\", command=clearAll)\n",
    "    button2.grid(row=4, column=1)\n",
    "    \n",
    "    root.mainloop()"
   ]
  },
  {
   "cell_type": "markdown",
   "id": "c914f386",
   "metadata": {},
   "source": []
  },
  {
   "cell_type": "code",
   "execution_count": 29,
   "id": "b52173f7",
   "metadata": {},
   "outputs": [
    {
     "data": {
      "text/plain": [
       "'table'"
      ]
     },
     "execution_count": 29,
     "metadata": {},
     "output_type": "execute_result"
    }
   ],
   "source": [
    "checker.check(\"tabl\")"
   ]
  },
  {
   "cell_type": "code",
   "execution_count": 5,
   "id": "c437db49",
   "metadata": {},
   "outputs": [
    {
     "data": {
      "text/plain": [
       "[('popular', 0.00011832357014481191)]"
      ]
     },
     "execution_count": 5,
     "metadata": {},
     "output_type": "execute_result"
    }
   ],
   "source": [
    "checker.check(\"populer\")"
   ]
  },
  {
   "cell_type": "code",
   "execution_count": 8,
   "id": "1ab0c0ed",
   "metadata": {},
   "outputs": [
    {
     "data": {
      "text/plain": [
       "'post'"
      ]
     },
     "execution_count": 8,
     "metadata": {},
     "output_type": "execute_result"
    }
   ],
   "source": [
    "checker.check(\"postr\")"
   ]
  },
  {
   "cell_type": "code",
   "execution_count": 9,
   "id": "8e8c4fe1",
   "metadata": {},
   "outputs": [
    {
     "data": {
      "text/plain": [
       "'cricket'"
      ]
     },
     "execution_count": 9,
     "metadata": {},
     "output_type": "execute_result"
    }
   ],
   "source": [
    "checker.check(\"criket\")"
   ]
  },
  {
   "cell_type": "code",
   "execution_count": null,
   "id": "542a7041",
   "metadata": {},
   "outputs": [],
   "source": []
  }
 ],
 "metadata": {
  "kernelspec": {
   "display_name": "Python 3 (ipykernel)",
   "language": "python",
   "name": "python3"
  },
  "language_info": {
   "codemirror_mode": {
    "name": "ipython",
    "version": 3
   },
   "file_extension": ".py",
   "mimetype": "text/x-python",
   "name": "python",
   "nbconvert_exporter": "python",
   "pygments_lexer": "ipython3",
   "version": "3.11.3"
  }
 },
 "nbformat": 4,
 "nbformat_minor": 5
}
