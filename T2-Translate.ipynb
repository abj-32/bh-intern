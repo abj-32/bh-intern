{
 "cells": [
  {
   "cell_type": "code",
   "execution_count": 3,
   "id": "e3ed025d",
   "metadata": {},
   "outputs": [
    {
     "name": "stderr",
     "output_type": "stream",
     "text": [
      "ERROR: Could not find a version that satisfies the requirement tkinter (from versions: none)\n",
      "ERROR: No matching distribution found for tkinter\n"
     ]
    }
   ],
   "source": [
    "#!pip install googletrans==3.1.0a0\n",
    "!pip install tkinter"
   ]
  },
  {
   "cell_type": "code",
   "execution_count": null,
   "id": "d6192225",
   "metadata": {},
   "outputs": [],
   "source": []
  },
  {
   "cell_type": "code",
   "execution_count": 5,
   "id": "52aec683",
   "metadata": {},
   "outputs": [],
   "source": [
    "\n",
    "from tkinter import *\n",
    "from tkinter import ttk, messagebox                           \n",
    "import googletrans\n",
    "from googletrans import Translator\n",
    "\n",
    "\n",
    "\n",
    "\n",
    "\n",
    "root = Tk()\n",
    "root.title('Google Translator by AI Sciences')\n",
    "root.geometry(\"1080x400\")\n",
    "root.configure(bg='light blue')\n",
    "\n",
    "def label_change():\n",
    "    c1 = combo1.get()\n",
    "    c2 = combo2.get()\n",
    "    \n",
    "    label1.configure(text=c1)\n",
    "    label2.configure(text=c2)\n",
    "    root.after(1000, label_change)\n",
    "    \n",
    "\n",
    "def translate_now():\n",
    "    text = text1.get(1.0, END)\n",
    "    t1 = Translator()\n",
    "    trans_text = t1.translate(text, src=combo1.get(), dest=combo2.get())\n",
    "    trans_text = trans_text.text\n",
    "    text2.delete(1.0,END)\n",
    "    text2.insert(END, trans_text)\n",
    "    \n",
    "    \n",
    "languages=googletrans.LANGUAGES\n",
    "languageV=list(languages.values())\n",
    "combo1 = ttk.Combobox(root, values=languageV, font='Roboto 14', state='r')\n",
    "combo1.place(x=100, y=20)\n",
    "combo1.set('ENGLISH')\n",
    "\n",
    "label1 = Label(root, text='ENGLISH', font='sego 30 bold', bg='white', width= 18, bd=5, relief= GROOVE)\n",
    "label1.place(x=10, y=50)\n",
    "\n",
    "f1 = Frame(root, bg='Black', bd=5)\n",
    "f1.place(x=10, y=118, width=440, height=210)\n",
    "\n",
    "text1 = Text(f1, font='Robot 20', bg='white', relief= GROOVE, wrap=WORD)\n",
    "text1.place(x=0, y=0, width=430, height = 200)\n",
    "\n",
    "\n",
    "\n",
    "combo2 = ttk.Combobox(root, values=languageV, font='Roboto 14', state='r')\n",
    "combo2.place(x=730, y=20)\n",
    "combo2.set('SELECT LANGUAGE')\n",
    "\n",
    "label2 = Label(root, text='ENGLISH', font='sego 30 bold', bg='white', width= 18, bd=5, relief= GROOVE)\n",
    "label2.place(x=620, y=50)\n",
    "\n",
    "f2 = Frame(root, bg='Black', bd=5)\n",
    "f2.place(x=620, y=118, width=440, height=210)\n",
    "\n",
    "text2 = Text(f2, font='Robot 20', bg='white', relief= GROOVE, wrap=WORD)\n",
    "text2.place(x=0, y=0, width=430, height = 200)\n",
    "\n",
    "\n",
    "translate_button = Button(root, text='Translate', font='Robot 15 bold italic', cursor='hand2',\n",
    "                         bg='red', fg='white', command=translate_now)\n",
    "translate_button.place(x=480, y=250)\n",
    "\n",
    "label_change()\n",
    "root.mainloop()"
   ]
  },
  {
   "cell_type": "code",
   "execution_count": null,
   "id": "1cb3e973",
   "metadata": {},
   "outputs": [],
   "source": []
  },
  {
   "cell_type": "code",
   "execution_count": null,
   "id": "415c86b0",
   "metadata": {},
   "outputs": [],
   "source": []
  }
 ],
 "metadata": {
  "kernelspec": {
   "display_name": "Python 3 (ipykernel)",
   "language": "python",
   "name": "python3"
  },
  "language_info": {
   "codemirror_mode": {
    "name": "ipython",
    "version": 3
   },
   "file_extension": ".py",
   "mimetype": "text/x-python",
   "name": "python",
   "nbconvert_exporter": "python",
   "pygments_lexer": "ipython3",
   "version": "3.11.3"
  }
 },
 "nbformat": 4,
 "nbformat_minor": 5
}
